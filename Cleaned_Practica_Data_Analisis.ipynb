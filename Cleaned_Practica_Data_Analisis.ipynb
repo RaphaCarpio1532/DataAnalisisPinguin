{
 "cells": [
  {
   "cell_type": "code",
   "execution_count": null,
   "metadata": {
    "id": "X9rCfUUaciwC"
   },
   "outputs": [],
   "source": [
    "import numpy as np\n",
    "import pandas as pd"
   ]
  },
  {
   "cell_type": "code",
   "execution_count": null,
   "metadata": {
    "id": "6Sgh1UlEczMv"
   },
   "outputs": [],
   "source": [
    "dataframe = pd.read_csv('/content/penguins_data.csv')"
   ]
  },
  {
   "cell_type": "code",
   "execution_count": null,
   "metadata": {
    "colab": {
     "base_uri": "https://localhost:8080/"
    },
    "id": "n5GZRo0-dBBq",
    "outputId": "c553c789-cff1-43d8-f937-65e11d354f39"
   },
   "outputs": [],
   "source": [
    "filas = len(dataframe)\n",
    "columnas = dataframe.shape[1]\n",
    "print(f\"La cantidad de Filas: {filas}, La cantidad de columnas: {columnas}\")"
   ]
  },
  {
   "cell_type": "code",
   "execution_count": null,
   "metadata": {
    "colab": {
     "base_uri": "https://localhost:8080/"
    },
    "id": "0H03ah15dLL_",
    "outputId": "b374a99a-da21-45cb-a930-562aa722281e"
   },
   "outputs": [],
   "source": [
    "#Identificar las variabiles.\n",
    "vcategoricas = dataframe.select_dtypes(include=['object']).columns.tolist()\n",
    "vcontinuas = dataframe.select_dtypes(include=['float64', 'int64']).columns.tolist()\n",
    "print(f\"Las Variabiles categorias son: {vcategoricas}\")\n",
    "print(f\"las variabiles continuas son {vcontinuas}\")"
   ]
  },
  {
   "cell_type": "code",
   "execution_count": null,
   "metadata": {
    "colab": {
     "base_uri": "https://localhost:8080/"
    },
    "id": "857sazB4eHV3",
    "outputId": "00970d1b-532f-4120-cd4e-d3e3049f0edd"
   },
   "outputs": [],
   "source": [
    "#Analizar Valores Faltantes\n",
    "vfaltantes = dataframe.isnull().sum()\n",
    "proporcion_faltantes = dataframe.isnull().mean()*100\n",
    "print(f\"Los valores faltantes son:{vfaltantes}\")\n",
    "print(f\"La proporción de los valores faltantes son: {proporcion_faltantes}\")"
   ]
  },
  {
   "cell_type": "code",
   "execution_count": null,
   "metadata": {
    "colab": {
     "base_uri": "https://localhost:8080/"
    },
    "id": "MnQif-CiezNl",
    "outputId": "b7cc3444-6606-4d53-81f9-cb7bd8e525af"
   },
   "outputs": [],
   "source": [
    "#analisis descriptivo de datos\n",
    "print(dataframe.describe())"
   ]
  },
  {
   "cell_type": "code",
   "execution_count": null,
   "metadata": {
    "colab": {
     "base_uri": "https://localhost:8080/"
    },
    "id": "se_ajWWHfEQN",
    "outputId": "7fddef84-48ad-4db4-a34d-e9ddd3c62d98"
   },
   "outputs": [],
   "source": [
    "#cuantas especies son\n",
    "print(dataframe['species'].value_counts())"
   ]
  },
  {
   "cell_type": "code",
   "execution_count": null,
   "metadata": {
    "colab": {
     "base_uri": "https://localhost:8080/",
     "height": 226
    },
    "id": "hv6h8vT3fSJE",
    "outputId": "de334876-8d1f-445f-ce18-0d84ad60b875"
   },
   "outputs": [],
   "source": [
    "dataframe.head()"
   ]
  },
  {
   "cell_type": "code",
   "execution_count": null,
   "metadata": {
    "id": "w-Hu40Z6fbSz"
   },
   "outputs": [],
   "source": [
    "dataframe2 = dataframe.copy()"
   ]
  },
  {
   "cell_type": "code",
   "execution_count": null,
   "metadata": {
    "colab": {
     "base_uri": "https://localhost:8080/",
     "height": 226
    },
    "id": "SfWlntdufiEa",
    "outputId": "b0b3ba84-541d-4776-9cc3-a227d1b64950"
   },
   "outputs": [],
   "source": [
    "dataframe2.head()"
   ]
  },
  {
   "cell_type": "code",
   "execution_count": null,
   "metadata": {
    "colab": {
     "base_uri": "https://localhost:8080/"
    },
    "id": "WBYhiy3Jfj93",
    "outputId": "f3e97356-ad59-418b-8910-9a1824eaf97b"
   },
   "outputs": [],
   "source": [
    "#Reagrupar los datos por especies y calcular la media de la masa corporal\n",
    "grupode_especies = dataframe2.groupby('species')\n",
    "print(f\"La Media por especie es :\",grupode_especies['body_mass_g'].mean())\n",
    "\n",
    "#Reagrupar los datos por especies y calcular desviacion estandar de la masa corporal\n",
    "lastd_especies = dataframe2.groupby('species')\n",
    "print(f\"La STD es :\", lastd_especies['body_mass_g'].std())\n",
    "\n",
    "#Imprimir la Varianza por especies\n",
    "print(\"La Varianza por especies:\")\n",
    "print(lastd_especies['body_mass_g'].var())\n",
    "\n"
   ]
  },
  {
   "cell_type": "code",
   "execution_count": null,
   "metadata": {
    "id": "SdlDmq1Af5tI"
   },
   "outputs": [],
   "source": []
  },
  {
   "cell_type": "markdown",
   "metadata": {
    "id": "_PCrXtY8j8M3"
   },
   "source": [
    "**Conclusiones Posibles**<br>\n",
    "Distribución de Especies: ¿Hay un desequilibrio en la representación de las especies? ¿Alguna especie está mucho más o menos representada?<br>\n",
    "Calidad del Datos: Los valores faltantes pueden indicar problemas en la recolección de datos o en ciertas características de las especies.<br>\n",
    "Comparaciones entre Especies: Las diferencias en la masa corporal promedio, la desviación estándar y la varianza entre las especies pueden revelar patrones biológicos interesantes."
   ]
  },
  {
   "cell_type": "code",
   "execution_count": null,
   "metadata": {
    "id": "oZqj7O-AnbEI"
   },
   "outputs": [],
   "source": [
    "colores_especies = {\n",
    "    'Gentoo': 'orange',  # Anaranjado para Gentoo\n",
    "    'Adelie': 'blue',    # Azul para Adelie\n",
    "    'Chinstrap': 'green' # Verde para Chinstrap\n",
    "}\n"
   ]
  },
  {
   "cell_type": "code",
   "execution_count": null,
   "metadata": {
    "id": "IUKmo3iYkBkt"
   },
   "outputs": [],
   "source": [
    "import seaborn as sns\n",
    "import matplotlib.pyplot as plt"
   ]
  },
  {
   "cell_type": "code",
   "execution_count": null,
   "metadata": {
    "colab": {
     "base_uri": "https://localhost:8080/",
     "height": 472
    },
    "id": "AC0OSfmHkKNg",
    "outputId": "466c4f24-ac10-4ea0-98f9-d7d0ea10fd43"
   },
   "outputs": [],
   "source": [
    "# La variable 'body_mass_g'\n",
    "sns.histplot(dataframe2['body_mass_g'], kde=True)\n",
    "plt.title('Distribución de la Masa Corporal')\n",
    "plt.xlabel('Masa Corporal (g)')\n",
    "plt.ylabel('Frecuencia')\n",
    "plt.show()"
   ]
  },
  {
   "cell_type": "markdown",
   "metadata": {
    "id": "jGWWHOYmkVE9"
   },
   "source": [
    "**Boxplots para comparar la distribución de la masa corporal entre diferentes especies:**"
   ]
  },
  {
   "cell_type": "code",
   "execution_count": null,
   "metadata": {
    "colab": {
     "base_uri": "https://localhost:8080/",
     "height": 472
    },
    "id": "fft9Ei2ekO-8",
    "outputId": "5e02b62c-c160-4928-9916-4120ac2735ff"
   },
   "outputs": [],
   "source": [
    "sns.boxplot(x='species', y='body_mass_g', data=dataframe2, hue='species', palette=colores_especies, legend=False)\n",
    "plt.title('Comparación de la Masa Corporal por Especies')\n",
    "plt.xlabel('Especies')\n",
    "plt.ylabel('Masa Corporal (g)')\n",
    "plt.show()\n"
   ]
  },
  {
   "cell_type": "markdown",
   "metadata": {
    "id": "yP5w3ugOkduO"
   },
   "source": [
    "**Gráficos de Barras para mostrar la media de la masa corporal por especie:**"
   ]
  },
  {
   "cell_type": "code",
   "execution_count": null,
   "metadata": {
    "colab": {
     "base_uri": "https://localhost:8080/",
     "height": 579
    },
    "id": "KLcbUpqskfrY",
    "outputId": "da07239d-6eb8-4986-89c4-ba6f7a417008"
   },
   "outputs": [],
   "source": [
    "means = dataframe2.groupby('species')['body_mass_g'].mean().reset_index()\n",
    "sns.barplot(x='species', y='body_mass_g', data=means, palette=colores_especies)\n",
    "plt.title('Media de la Masa Corporal por Especie')\n",
    "plt.xlabel('Especies')\n",
    "plt.ylabel('Media de Masa Corporal (g)')\n",
    "plt.show()"
   ]
  },
  {
   "cell_type": "markdown",
   "metadata": {
    "id": "cYxqLZSzkxrK"
   },
   "source": [
    "**Diagramas de Dispersión (Scatter plots)**"
   ]
  },
  {
   "cell_type": "code",
   "execution_count": null,
   "metadata": {
    "colab": {
     "base_uri": "https://localhost:8080/",
     "height": 472
    },
    "id": "ptW6giUYkhCq",
    "outputId": "95a7eaf0-be73-4a13-fac4-e220d5693cc7"
   },
   "outputs": [],
   "source": [
    "sns.scatterplot(x='flipper_length_mm', y='body_mass_g', hue='species', data=dataframe2, palette=colores_especies)\n",
    "plt.title('Relación entre Longitud de Aleta y Masa Corporal por Especies')\n",
    "plt.xlabel('Longitud de Aleta (mm)')\n",
    "plt.ylabel('Masa Corporal (g)')\n",
    "plt.show()\n"
   ]
  },
  {
   "cell_type": "code",
   "execution_count": null,
   "metadata": {
    "colab": {
     "base_uri": "https://localhost:8080/",
     "height": 472
    },
    "id": "FeXfb-C4mCTf",
    "outputId": "e24627e3-3ffe-44d9-9ec3-d94b5f3056b9"
   },
   "outputs": [],
   "source": [
    "sns.scatterplot(x='bill_depth_mm', y='body_mass_g', hue='species', data=dataframe2, palette=colores_especies)\n",
    "plt.title('Relación entre Profundidad del pico y Masa Corporal por Especies')\n",
    "plt.xlabel('Profundidad del pico (mm)')\n",
    "plt.ylabel('Masa Corporal (g)')\n",
    "plt.show()"
   ]
  },
  {
   "cell_type": "code",
   "execution_count": null,
   "metadata": {
    "colab": {
     "base_uri": "https://localhost:8080/",
     "height": 472
    },
    "id": "94O-5xltmbCj",
    "outputId": "4f2e11a3-9403-45c0-efea-4c3a67227efd"
   },
   "outputs": [],
   "source": [
    "sns.scatterplot(x='bill_length_mm', y='body_mass_g', hue='species', data=dataframe2, palette=colores_especies)\n",
    "plt.title('Relación entre La longitud del pico y Masa Corporal por Especies')\n",
    "plt.xlabel('Longitud del pico (mm)')\n",
    "plt.ylabel('Masa Corporal (g)')\n",
    "plt.show()"
   ]
  },
  {
   "cell_type": "markdown",
   "metadata": {
    "id": "rF-xzo57lIYm"
   },
   "source": [
    "**Gráfico de Frecuencia de Especies:**"
   ]
  },
  {
   "cell_type": "code",
   "execution_count": null,
   "metadata": {
    "colab": {
     "base_uri": "https://localhost:8080/",
     "height": 579
    },
    "id": "XmBt22eElKkE",
    "outputId": "62904e4b-6fd8-4804-cd9f-20dabe2f1ef8"
   },
   "outputs": [],
   "source": [
    "sns.countplot(x='species', data=dataframe2, palette=colores_especies)\n",
    "plt.title('Frecuencia de Observaciones por Especie')\n",
    "plt.xlabel('Especies')\n",
    "plt.ylabel('Frecuencia')\n",
    "plt.show()\n"
   ]
  }
 ],
 "metadata": {
  "colab": {
   "provenance": []
  },
  "kernelspec": {
   "display_name": "Python 3",
   "name": "python3"
  },
  "language_info": {
   "name": "python"
  }
 },
 "nbformat": 4,
 "nbformat_minor": 0
}
